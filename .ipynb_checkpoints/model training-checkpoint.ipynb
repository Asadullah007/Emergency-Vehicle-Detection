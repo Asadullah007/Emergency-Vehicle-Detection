{
 "cells": [
  {
   "cell_type": "code",
   "execution_count": 1,
   "metadata": {},
   "outputs": [],
   "source": [
    "import os, shutil\n",
    "original_dataset_dir = 'Data'"
   ]
  },
  {
   "cell_type": "code",
   "execution_count": 2,
   "metadata": {},
   "outputs": [],
   "source": [
    "base_dir = 'F:/Github/virufy finger/Model/WD'\n",
    "os.mkdir(base_dir)\n",
    "train_dir = os.path.join(base_dir, 'train')\n",
    "os.mkdir(train_dir)\n",
    "validation_dir = os.path.join(base_dir, 'validation')\n",
    "os.mkdir(validation_dir)\n",
    "test_dir = os.path.join(base_dir, 'test')\n",
    "os.mkdir(test_dir)"
   ]
  },
  {
   "cell_type": "code",
   "execution_count": 3,
   "metadata": {},
   "outputs": [],
   "source": [
    "train_Positive_dir = os.path.join(train_dir, 'Positive')\n",
    "#os.mkdir(train_Positive_dir)"
   ]
  },
  {
   "cell_type": "code",
   "execution_count": 4,
   "metadata": {},
   "outputs": [],
   "source": [
    "train_Negative_dir = os.path.join(train_dir, 'Negative')\n",
    "#os.mkdir(train_Negative_dir)"
   ]
  },
  {
   "cell_type": "code",
   "execution_count": 5,
   "metadata": {},
   "outputs": [],
   "source": [
    "validation_Positive_dir = os.path.join(validation_dir, 'Positive')\n",
    "#os.mkdir(validation_Positive_dir)"
   ]
  },
  {
   "cell_type": "code",
   "execution_count": 6,
   "metadata": {},
   "outputs": [],
   "source": [
    "validation_Negative_dir = os.path.join(validation_dir, 'Negative')\n",
    "#os.mkdir(validation_Negative_dir)"
   ]
  },
  {
   "cell_type": "code",
   "execution_count": 7,
   "metadata": {},
   "outputs": [],
   "source": [
    "test_Positive_dir = os.path.join(test_dir, 'Positive')\n",
    "#os.mkdir(test_Positive_dir)"
   ]
  },
  {
   "cell_type": "code",
   "execution_count": 8,
   "metadata": {},
   "outputs": [],
   "source": [
    "test_Negative_dir = os.path.join(test_dir, 'Negative')\n",
    "#os.mkdir(test_Negative_dir)"
   ]
  },
  {
   "cell_type": "code",
   "execution_count": 45,
   "metadata": {},
   "outputs": [],
   "source": [
    "fnames = ['Positive{}.jpg'.format(i) for i in range(4000)]\n",
    "for fname in fnames:\n",
    "    src = os.path.join(original_dataset_dir, fname)\n",
    "    dst = os.path.join(train_Positive_dir, fname)\n",
    "    shutil.copyfile(src, dst)"
   ]
  },
  {
   "cell_type": "code",
   "execution_count": 46,
   "metadata": {},
   "outputs": [],
   "source": [
    "fnames = ['Positive{}.jpg'.format(i) for i in range(4000, 5000)]\n",
    "for fname in fnames:\n",
    "    src = os.path.join(original_dataset_dir, fname)\n",
    "    dst = os.path.join(validation_Positive_dir, fname)\n",
    "    shutil.copyfile(src, dst)"
   ]
  },
  {
   "cell_type": "code",
   "execution_count": 47,
   "metadata": {},
   "outputs": [],
   "source": [
    "fnames = ['Positive{}.jpg'.format(i) for i in range(5000, 5495)]\n",
    "for fname in fnames:\n",
    "    src = os.path.join(original_dataset_dir, fname)\n",
    "    dst = os.path.join(test_Positive_dir, fname)\n",
    "    shutil.copyfile(src, dst)"
   ]
  },
  {
   "cell_type": "code",
   "execution_count": 48,
   "metadata": {},
   "outputs": [],
   "source": [
    "fnames = ['negative{}.jpg'.format(i) for i in range(4000)]\n",
    "for fname in fnames:\n",
    "    src = os.path.join(original_dataset_dir, fname)\n",
    "    dst = os.path.join(train_Negative_dir, fname)\n",
    "    shutil.copyfile(src, dst)"
   ]
  },
  {
   "cell_type": "code",
   "execution_count": 49,
   "metadata": {},
   "outputs": [],
   "source": [
    "fnames = ['negative{}.jpg'.format(i) for i in range(4000, 5000)]\n",
    "for fname in fnames:\n",
    "    src = os.path.join(original_dataset_dir, fname)\n",
    "    dst = os.path.join(validation_Negative_dir, fname)\n",
    "    shutil.copyfile(src, dst)"
   ]
  },
  {
   "cell_type": "code",
   "execution_count": 50,
   "metadata": {},
   "outputs": [],
   "source": [
    "fnames = ['negative{}.jpg'.format(i) for i in range(5000, 5495)]\n",
    "for fname in fnames:\n",
    "    src = os.path.join(original_dataset_dir, fname)\n",
    "    dst = os.path.join(test_Negative_dir, fname)\n",
    "    shutil.copyfile(src, dst)"
   ]
  },
  {
   "cell_type": "code",
   "execution_count": null,
   "metadata": {},
   "outputs": [],
   "source": []
  },
  {
   "cell_type": "code",
   "execution_count": 15,
   "metadata": {},
   "outputs": [],
   "source": [
    "from tensorflow.keras import layers\n",
    "from tensorflow.keras import models\n",
    "model = models.Sequential()\n",
    "model.add(layers.Conv2D(32, (3, 3), activation='relu',\n",
    "input_shape=(150, 150, 3)))\n",
    "\n",
    "model.add(layers.MaxPooling2D((2, 2)))\n",
    "model.add(layers.Conv2D(64, (3, 3), activation='relu'))\n",
    "\n",
    "model.add(layers.MaxPooling2D((2, 2)))\n",
    "model.add(layers.Conv2D(128, (3, 3), activation='relu'))\n",
    "\n",
    "model.add(layers.MaxPooling2D((2, 2)))\n",
    "model.add(layers.Conv2D(128, (3, 3), activation='relu'))\n",
    "\n",
    "model.add(layers.MaxPooling2D((2, 2)))\n",
    "model.add(layers.Flatten())\n",
    "\n",
    "model.add(layers.Dense(512, activation='relu'))\n",
    "model.add(layers.Dense(1, activation='sigmoid'))"
   ]
  },
  {
   "cell_type": "code",
   "execution_count": 16,
   "metadata": {},
   "outputs": [],
   "source": [
    "from tensorflow.keras import optimizers\n",
    "model.compile(loss='binary_crossentropy',\n",
    "optimizer=optimizers.RMSprop(lr=1e-2),\n",
    "metrics=['acc'])"
   ]
  },
  {
   "cell_type": "code",
   "execution_count": 17,
   "metadata": {},
   "outputs": [],
   "source": [
    "from tensorflow.keras.preprocessing.image import ImageDataGenerator\n",
    "train_datagen = ImageDataGenerator(rescale=1./255)\n",
    "test_datagen = ImageDataGenerator(rescale=1./255)"
   ]
  },
  {
   "cell_type": "code",
   "execution_count": 18,
   "metadata": {},
   "outputs": [
    {
     "name": "stdout",
     "output_type": "stream",
     "text": [
      "Found 8000 images belonging to 2 classes.\n"
     ]
    }
   ],
   "source": [
    "train_generator = train_datagen.flow_from_directory(\n",
    "train_dir,\n",
    "target_size=(150, 150),\n",
    "batch_size=20,\n",
    "class_mode='binary')"
   ]
  },
  {
   "cell_type": "code",
   "execution_count": 19,
   "metadata": {},
   "outputs": [
    {
     "name": "stdout",
     "output_type": "stream",
     "text": [
      "Found 2000 images belonging to 2 classes.\n"
     ]
    }
   ],
   "source": [
    "validation_generator = test_datagen.flow_from_directory(\n",
    "validation_dir,target_size=(150, 150),\n",
    "batch_size=50,\n",
    "class_mode='binary')"
   ]
  },
  {
   "cell_type": "code",
   "execution_count": 20,
   "metadata": {
    "scrolled": true
   },
   "outputs": [
    {
     "name": "stdout",
     "output_type": "stream",
     "text": [
      "Epoch 1/20\n",
      "10/10 [==============================] - 86s 9s/step - loss: 6.6247 - acc: 0.5300 - val_loss: 7.7063 - val_acc: 0.5004\n",
      "Epoch 2/20\n",
      "10/10 [==============================] - 77s 8s/step - loss: 8.0210 - acc: 0.4800 - val_loss: 7.6816 - val_acc: 0.5020\n",
      "Epoch 3/20\n",
      "10/10 [==============================] - 78s 8s/step - loss: 7.6353 - acc: 0.5050 - val_loss: 7.7372 - val_acc: 0.4984\n",
      "Epoch 4/20\n",
      "10/10 [==============================] - 76s 8s/step - loss: 7.1726 - acc: 0.5350 - val_loss: 7.7001 - val_acc: 0.5008\n",
      "Epoch 5/20\n",
      "10/10 [==============================] - 80s 8s/step - loss: 8.0210 - acc: 0.4800 - val_loss: 7.6940 - val_acc: 0.5012\n",
      "Epoch 6/20\n",
      "10/10 [==============================] - 78s 8s/step - loss: 8.4837 - acc: 0.4500 - val_loss: 7.6940 - val_acc: 0.5012\n",
      "Epoch 7/20\n",
      "10/10 [==============================] - 76s 8s/step - loss: 7.6353 - acc: 0.5050 - val_loss: 7.7433 - val_acc: 0.4980\n",
      "Epoch 8/20\n",
      "10/10 [==============================] - 75s 7s/step - loss: 7.3269 - acc: 0.5250 - val_loss: 7.6816 - val_acc: 0.5020\n",
      "Epoch 9/20\n",
      "10/10 [==============================] - 80s 8s/step - loss: 7.2497 - acc: 0.5300 - val_loss: 7.6261 - val_acc: 0.5056\n",
      "Epoch 10/20\n",
      "10/10 [==============================] - 77s 8s/step - loss: 7.2497 - acc: 0.5300 - val_loss: 7.7186 - val_acc: 0.4996\n",
      "Epoch 11/20\n",
      "10/10 [==============================] - 79s 8s/step - loss: 8.2523 - acc: 0.4650 - val_loss: 7.6323 - val_acc: 0.5052\n",
      "Epoch 12/20\n",
      "10/10 [==============================] - 85s 8s/step - loss: 7.8667 - acc: 0.4900 - val_loss: 7.6693 - val_acc: 0.5028\n",
      "Epoch 13/20\n",
      "10/10 [==============================] - 78s 8s/step - loss: 7.8667 - acc: 0.4900 - val_loss: 7.7001 - val_acc: 0.5008\n",
      "Epoch 14/20\n",
      "10/10 [==============================] - 76s 8s/step - loss: 8.5608 - acc: 0.4450 - val_loss: 7.7433 - val_acc: 0.4980\n",
      "Epoch 15/20\n",
      "10/10 [==============================] - 78s 8s/step - loss: 8.0210 - acc: 0.4800 - val_loss: 7.7803 - val_acc: 0.4956\n",
      "Epoch 16/20\n",
      "10/10 [==============================] - 81s 8s/step - loss: 8.8693 - acc: 0.4250 - val_loss: 7.7618 - val_acc: 0.4968\n",
      "Epoch 17/20\n",
      "10/10 [==============================] - 79s 8s/step - loss: 8.4066 - acc: 0.4550 - val_loss: 7.6508 - val_acc: 0.5040\n",
      "Epoch 18/20\n",
      "10/10 [==============================] - 81s 8s/step - loss: 6.4785 - acc: 0.5800 - val_loss: 7.7680 - val_acc: 0.4964\n",
      "Epoch 19/20\n",
      "10/10 [==============================] - 82s 8s/step - loss: 7.9438 - acc: 0.4850 - val_loss: 7.6693 - val_acc: 0.5028\n",
      "Epoch 20/20\n",
      "10/10 [==============================] - 74s 7s/step - loss: 7.4811 - acc: 0.5150 - val_loss: 7.5829 - val_acc: 0.5084\n"
     ]
    }
   ],
   "source": [
    "history = model.fit_generator(\n",
    "train_generator,\n",
    "steps_per_epoch=10,\n",
    "epochs=20,\n",
    "validation_data=validation_generator,\n",
    "validation_steps=50)"
   ]
  },
  {
   "cell_type": "code",
   "execution_count": 21,
   "metadata": {},
   "outputs": [
    {
     "data": {
      "image/png": "[encoded data removed]",
      "text/plain": [
       "<Figure size 432x288 with 1 Axes>"
      ]
     },
     "metadata": {
      "needs_background": "light"
     },
     "output_type": "display_data"
    },
    {
     "data": {
      "image/png": "[encoded data removed]",
      "text/plain": [
       "<Figure size 432x288 with 1 Axes>"
      ]
     },
     "metadata": {
      "needs_background": "light"
     },
     "output_type": "display_data"
    }
   ],
   "source": [
    "%matplotlib inline\n",
    "import matplotlib.pyplot as plt\n",
    "acc = history.history['acc']\n",
    "val_acc = history.history['val_acc']\n",
    "loss = history.history['loss']\n",
    "val_loss = history.history['val_loss']\n",
    "epochs = range(1, len(acc) + 1)\n",
    "plt.plot(epochs, acc, 'bo', label='Training acc')\n",
    "plt.plot(epochs, val_acc, 'b', label='Validation acc')\n",
    "plt.title('Training and validation accuracy')\n",
    "plt.legend()\n",
    "plt.figure()\n",
    "plt.plot(epochs, loss, 'bo', label='Training loss')\n",
    "plt.plot(epochs, val_loss, 'b', label='Validation loss')\n",
    "plt.title('Training and validation loss')\n",
    "plt.legend()\n",
    "plt.show()"
   ]
  },
  {
   "cell_type": "code",
   "execution_count": null,
   "metadata": {},
   "outputs": [],
   "source": []
  }
 ],
 "metadata": {
  "kernelspec": {
   "display_name": "Python 3",
   "language": "python",
   "name": "python3"
  },
  "language_info": {
   "codemirror_mode": {
    "name": "ipython",
    "version": 3
   },
   "file_extension": ".py",
   "mimetype": "text/x-python",
   "name": "python",
   "nbconvert_exporter": "python",
   "pygments_lexer": "ipython3",
   "version": "3.6.5"
  }
 },
 "nbformat": 4,
 "nbformat_minor": 2
}
